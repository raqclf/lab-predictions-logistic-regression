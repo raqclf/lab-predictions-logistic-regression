{
 "cells": [
  {
   "cell_type": "markdown",
   "id": "6160ab6b",
   "metadata": {},
   "source": [
    "# Lab 3.07"
   ]
  },
  {
   "cell_type": "markdown",
   "id": "d637521c",
   "metadata": {},
   "source": [
    "#In order to optimize our inventory, we would like to know which films will be rented next month and we are asked to create a model to predict it.\n",
    "\n"
   ]
  },
  {
   "cell_type": "markdown",
   "id": "fdf1b488",
   "metadata": {},
   "source": [
    "### Instructions\n"
   ]
  },
  {
   "cell_type": "markdown",
   "id": "87925270",
   "metadata": {},
   "source": [
    "#### Create a query or queries to extract the information you think may be relevant for building the prediction model. It should include some film features and some rental features. Use the data from 2005.\n"
   ]
  },
  {
   "cell_type": "code",
   "execution_count": null,
   "id": "e4d01521",
   "metadata": {},
   "outputs": [],
   "source": []
  },
  {
   "cell_type": "markdown",
   "id": "1db06564",
   "metadata": {},
   "source": [
    "#### Create a query to get the list of films and a boolean indicating if it was rented last month (August 2005). This would be our target variable.\n"
   ]
  },
  {
   "cell_type": "code",
   "execution_count": null,
   "id": "f65214c4",
   "metadata": {},
   "outputs": [],
   "source": []
  },
  {
   "cell_type": "markdown",
   "id": "b83bab52",
   "metadata": {},
   "source": [
    "#### Read the data into a Pandas dataframe.\n"
   ]
  },
  {
   "cell_type": "code",
   "execution_count": null,
   "id": "26178209",
   "metadata": {},
   "outputs": [],
   "source": []
  },
  {
   "cell_type": "markdown",
   "id": "02a5e203",
   "metadata": {},
   "source": [
    "#### Analyze extracted features and transform them. You may need to encode some categorical variables, or scale numerical variables.\n"
   ]
  },
  {
   "cell_type": "code",
   "execution_count": null,
   "id": "ec4896fe",
   "metadata": {},
   "outputs": [],
   "source": []
  },
  {
   "cell_type": "markdown",
   "id": "cf91315e",
   "metadata": {},
   "source": [
    "#### Create a logistic regression model to predict this variable from the cleaned data.\n"
   ]
  },
  {
   "cell_type": "code",
   "execution_count": null,
   "id": "ed22479d",
   "metadata": {},
   "outputs": [],
   "source": []
  },
  {
   "cell_type": "markdown",
   "id": "ad23d501",
   "metadata": {},
   "source": [
    "#### Evaluate the results."
   ]
  }
 ],
 "metadata": {
  "kernelspec": {
   "display_name": "Python 3 (ipykernel)",
   "language": "python",
   "name": "python3"
  },
  "language_info": {
   "codemirror_mode": {
    "name": "ipython",
    "version": 3
   },
   "file_extension": ".py",
   "mimetype": "text/x-python",
   "name": "python",
   "nbconvert_exporter": "python",
   "pygments_lexer": "ipython3",
   "version": "3.9.7"
  }
 },
 "nbformat": 4,
 "nbformat_minor": 5
}
