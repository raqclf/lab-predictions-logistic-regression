{
 "cells": [
  {
   "cell_type": "markdown",
   "id": "b1c88255",
   "metadata": {},
   "source": [
    "# Lab 3.07"
   ]
  },
  {
   "cell_type": "code",
   "execution_count": 64,
   "id": "8ac81ca9",
   "metadata": {},
   "outputs": [
    {
     "name": "stdout",
     "output_type": "stream",
     "text": [
      "········\n"
     ]
    }
   ],
   "source": [
    "import pymysql\n",
    "from sqlalchemy import create_engine\n",
    "import pandas as pd\n",
    "import getpass  # To get the password without showing the input\n",
    "password = getpass.getpass()"
   ]
  },
  {
   "cell_type": "markdown",
   "id": "2014656e",
   "metadata": {},
   "source": [
    "#In order to optimize our inventory, we would like to know which films will be rented next month and we are asked to create a model to predict it.\n",
    "\n"
   ]
  },
  {
   "cell_type": "markdown",
   "id": "8fa3aa6f",
   "metadata": {},
   "source": [
    "### Instructions\n"
   ]
  },
  {
   "cell_type": "markdown",
   "id": "21510fe5",
   "metadata": {},
   "source": [
    "#### Create a query or queries to extract the information you think may be relevant for building the prediction model. It should include some film features and some rental features. Use the data from 2005.\n"
   ]
  },
  {
   "cell_type": "code",
   "execution_count": 467,
   "id": "05d9330e",
   "metadata": {},
   "outputs": [
    {
     "data": {
      "text/html": [
       "<div>\n",
       "<style scoped>\n",
       "    .dataframe tbody tr th:only-of-type {\n",
       "        vertical-align: middle;\n",
       "    }\n",
       "\n",
       "    .dataframe tbody tr th {\n",
       "        vertical-align: top;\n",
       "    }\n",
       "\n",
       "    .dataframe thead th {\n",
       "        text-align: right;\n",
       "    }\n",
       "</style>\n",
       "<table border=\"1\" class=\"dataframe\">\n",
       "  <thead>\n",
       "    <tr style=\"text-align: right;\">\n",
       "      <th></th>\n",
       "      <th>film_id</th>\n",
       "      <th>rental_duration</th>\n",
       "      <th>rental_date</th>\n",
       "      <th>customer_id</th>\n",
       "      <th>special_features</th>\n",
       "      <th>rating</th>\n",
       "      <th>store_id</th>\n",
       "      <th>staff_id</th>\n",
       "      <th>length</th>\n",
       "    </tr>\n",
       "  </thead>\n",
       "  <tbody>\n",
       "    <tr>\n",
       "      <th>0</th>\n",
       "      <td>80</td>\n",
       "      <td>7</td>\n",
       "      <td>2005-05-24 22:53:30</td>\n",
       "      <td>130</td>\n",
       "      <td>Trailers</td>\n",
       "      <td>G</td>\n",
       "      <td>1</td>\n",
       "      <td>1</td>\n",
       "      <td>148</td>\n",
       "    </tr>\n",
       "    <tr>\n",
       "      <th>1</th>\n",
       "      <td>333</td>\n",
       "      <td>7</td>\n",
       "      <td>2005-05-24 22:54:33</td>\n",
       "      <td>459</td>\n",
       "      <td>Trailers,Behind the Scenes</td>\n",
       "      <td>R</td>\n",
       "      <td>2</td>\n",
       "      <td>1</td>\n",
       "      <td>126</td>\n",
       "    </tr>\n",
       "    <tr>\n",
       "      <th>2</th>\n",
       "      <td>373</td>\n",
       "      <td>7</td>\n",
       "      <td>2005-05-24 23:03:39</td>\n",
       "      <td>408</td>\n",
       "      <td>Trailers,Behind the Scenes</td>\n",
       "      <td>G</td>\n",
       "      <td>2</td>\n",
       "      <td>1</td>\n",
       "      <td>156</td>\n",
       "    </tr>\n",
       "    <tr>\n",
       "      <th>3</th>\n",
       "      <td>535</td>\n",
       "      <td>6</td>\n",
       "      <td>2005-05-24 23:04:41</td>\n",
       "      <td>333</td>\n",
       "      <td>Trailers,Behind the Scenes</td>\n",
       "      <td>R</td>\n",
       "      <td>1</td>\n",
       "      <td>2</td>\n",
       "      <td>181</td>\n",
       "    </tr>\n",
       "    <tr>\n",
       "      <th>4</th>\n",
       "      <td>450</td>\n",
       "      <td>5</td>\n",
       "      <td>2005-05-24 23:05:21</td>\n",
       "      <td>222</td>\n",
       "      <td>Trailers</td>\n",
       "      <td>NC-17</td>\n",
       "      <td>2</td>\n",
       "      <td>1</td>\n",
       "      <td>84</td>\n",
       "    </tr>\n",
       "  </tbody>\n",
       "</table>\n",
       "</div>"
      ],
      "text/plain": [
       "   film_id  rental_duration         rental_date  customer_id  \\\n",
       "0       80                7 2005-05-24 22:53:30          130   \n",
       "1      333                7 2005-05-24 22:54:33          459   \n",
       "2      373                7 2005-05-24 23:03:39          408   \n",
       "3      535                6 2005-05-24 23:04:41          333   \n",
       "4      450                5 2005-05-24 23:05:21          222   \n",
       "\n",
       "             special_features rating  store_id  staff_id  length  \n",
       "0                    Trailers      G         1         1     148  \n",
       "1  Trailers,Behind the Scenes      R         2         1     126  \n",
       "2  Trailers,Behind the Scenes      G         2         1     156  \n",
       "3  Trailers,Behind the Scenes      R         1         2     181  \n",
       "4                    Trailers  NC-17         2         1      84  "
      ]
     },
     "execution_count": 467,
     "metadata": {},
     "output_type": "execute_result"
    }
   ],
   "source": [
    "connection_string = 'mysql+pymysql://root:' + password + '@localhost/sakila'\n",
    "engine = create_engine(connection_string)\n",
    "query = '''SELECT f.film_id\n",
    ", f.rental_duration\n",
    ", r.rental_date\n",
    ", r.customer_id\n",
    ", f.special_features\n",
    ", f.rating\n",
    ", i.store_id\n",
    ", r.staff_id\n",
    ", f.length\n",
    "FROM sakila.rental r\n",
    "JOIN sakila.inventory i\n",
    "USING (inventory_id)\n",
    "JOIN sakila.film f\n",
    "USING (film_id)\n",
    "WHERE r.rental_date \n",
    "BETWEEN '2005-01-01' AND '2005-12-31';'''\n",
    "\n",
    "sakila = pd.read_sql_query(query, engine)\n",
    "sakila.head()"
   ]
  },
  {
   "cell_type": "code",
   "execution_count": 468,
   "id": "f53e1be7",
   "metadata": {},
   "outputs": [
    {
     "data": {
      "text/plain": [
       "film_id                      int64\n",
       "rental_duration              int64\n",
       "rental_date         datetime64[ns]\n",
       "customer_id                  int64\n",
       "special_features            object\n",
       "rating                      object\n",
       "store_id                     int64\n",
       "staff_id                     int64\n",
       "length                       int64\n",
       "dtype: object"
      ]
     },
     "execution_count": 468,
     "metadata": {},
     "output_type": "execute_result"
    }
   ],
   "source": [
    "sakila.dtypes"
   ]
  },
  {
   "cell_type": "markdown",
   "id": "41f71f25",
   "metadata": {},
   "source": [
    "#### Create a query to get the list of films and a boolean indicating if it was rented last month (May 2005). This would be our target variable."
   ]
  },
  {
   "cell_type": "code",
   "execution_count": 469,
   "id": "6a5b5525",
   "metadata": {},
   "outputs": [],
   "source": [
    "sakila['month'] = pd.DatetimeIndex(sakila['rental_date']).month"
   ]
  },
  {
   "cell_type": "code",
   "execution_count": 470,
   "id": "9814104c",
   "metadata": {},
   "outputs": [],
   "source": [
    "def bool_target(x):\n",
    "\n",
    "    if x == 5:\n",
    "        return 'True'\n",
    "    else:\n",
    "        return 'False'"
   ]
  },
  {
   "cell_type": "code",
   "execution_count": 471,
   "id": "baf3405c",
   "metadata": {},
   "outputs": [],
   "source": [
    "sakila['target'] = sakila['month'].apply(bool_target)"
   ]
  },
  {
   "cell_type": "code",
   "execution_count": 472,
   "id": "cc92b14c",
   "metadata": {},
   "outputs": [
    {
     "data": {
      "text/plain": [
       "False    14706\n",
       "True      1156\n",
       "Name: target, dtype: int64"
      ]
     },
     "execution_count": 472,
     "metadata": {},
     "output_type": "execute_result"
    }
   ],
   "source": [
    "sakila['target'].value_counts()"
   ]
  },
  {
   "cell_type": "markdown",
   "id": "29ec26e3",
   "metadata": {},
   "source": [
    "#### Read the data into a Pandas dataframe."
   ]
  },
  {
   "cell_type": "code",
   "execution_count": 473,
   "id": "2c43db1b",
   "metadata": {},
   "outputs": [
    {
     "data": {
      "text/plain": [
       "film_id             0\n",
       "rental_duration     0\n",
       "rental_date         0\n",
       "customer_id         0\n",
       "special_features    0\n",
       "rating              0\n",
       "store_id            0\n",
       "staff_id            0\n",
       "length              0\n",
       "month               0\n",
       "target              0\n",
       "dtype: int64"
      ]
     },
     "execution_count": 473,
     "metadata": {},
     "output_type": "execute_result"
    }
   ],
   "source": [
    "sakila.isna().sum()"
   ]
  },
  {
   "cell_type": "code",
   "execution_count": 474,
   "id": "f690ebcc",
   "metadata": {},
   "outputs": [],
   "source": [
    "import matplotlib.pyplot as plt\n",
    "import seaborn as sns"
   ]
  },
  {
   "cell_type": "code",
   "execution_count": 475,
   "id": "0135a250",
   "metadata": {},
   "outputs": [
    {
     "data": {
      "image/png": "[encoded data removed]",
      "text/plain": [
       "<Figure size 720x576 with 2 Axes>"
      ]
     },
     "metadata": {
      "needs_background": "light"
     },
     "output_type": "display_data"
    }
   ],
   "source": [
    "corr_matrix=sakila.corr(method='pearson')  # default\n",
    "fig, ax = plt.subplots(figsize=(10, 8))\n",
    "ax = sns.heatmap(corr_matrix, annot=True) #annot=False gives just colors, not the numbers\n",
    "plt.show()"
   ]
  },
  {
   "cell_type": "code",
   "execution_count": 476,
   "id": "07a7eecd",
   "metadata": {},
   "outputs": [],
   "source": [
    "sakila = sakila.drop(['rental_date', 'month'], axis=1)"
   ]
  },
  {
   "cell_type": "markdown",
   "id": "4d05d0b9",
   "metadata": {},
   "source": [
    "#### Analyze extracted features and transform them. You may need to encode some categorical variables, or scale numerical variables."
   ]
  },
  {
   "cell_type": "code",
   "execution_count": 477,
   "id": "0626804f",
   "metadata": {},
   "outputs": [
    {
     "data": {
      "text/plain": [
       "PG-13    3543\n",
       "NC-17    3249\n",
       "PG       3178\n",
       "R        3152\n",
       "G        2740\n",
       "Name: rating, dtype: int64"
      ]
     },
     "execution_count": 477,
     "metadata": {},
     "output_type": "execute_result"
    }
   ],
   "source": [
    "sakila['rating'].value_counts()"
   ]
  },
  {
   "cell_type": "code",
   "execution_count": 478,
   "id": "cd374d8d",
   "metadata": {},
   "outputs": [],
   "source": [
    "def cleanOperation(x):\n",
    "    \n",
    "    if  ((x =='R') | (x =='NC-17')):\n",
    "        return \"Adult\"\n",
    "    elif ((x =='PG-13')|(x =='PG')):\n",
    "        return \"Family\"\n",
    "    else:\n",
    "        return 'General'\n"
   ]
  },
  {
   "cell_type": "code",
   "execution_count": 479,
   "id": "ea9fc064",
   "metadata": {},
   "outputs": [],
   "source": [
    "sakila['rating'] = list(map(cleanOperation, sakila['rating']))"
   ]
  },
  {
   "cell_type": "code",
   "execution_count": null,
   "id": "75617958",
   "metadata": {},
   "outputs": [],
   "source": []
  },
  {
   "cell_type": "code",
   "execution_count": 480,
   "id": "768ad5b4",
   "metadata": {},
   "outputs": [],
   "source": [
    "y = sakila['target']\n",
    "X = sakila.drop('target', axis=1)\n",
    "from sklearn.model_selection import train_test_split\n",
    "X_train, X_test, y_train, y_test = train_test_split(X, y, test_size=0.6, random_state=1337)"
   ]
  },
  {
   "cell_type": "code",
   "execution_count": 481,
   "id": "10bb3e32",
   "metadata": {},
   "outputs": [],
   "source": [
    "import numpy as np\n",
    "from sklearn.preprocessing import MinMaxScaler\n",
    "\n",
    "X_train_num = X_train.select_dtypes(include = np.number)\n",
    "\n",
    "transformer = MinMaxScaler().fit(X_train_num)\n",
    "X_train_normalized = transformer.transform(X_train_num)\n",
    "X_train_norm = pd.DataFrame(X_train_normalized)"
   ]
  },
  {
   "cell_type": "code",
   "execution_count": 482,
   "id": "9a9f1602",
   "metadata": {},
   "outputs": [
    {
     "data": {
      "text/html": [
       "<div>\n",
       "<style scoped>\n",
       "    .dataframe tbody tr th:only-of-type {\n",
       "        vertical-align: middle;\n",
       "    }\n",
       "\n",
       "    .dataframe tbody tr th {\n",
       "        vertical-align: top;\n",
       "    }\n",
       "\n",
       "    .dataframe thead th {\n",
       "        text-align: right;\n",
       "    }\n",
       "</style>\n",
       "<table border=\"1\" class=\"dataframe\">\n",
       "  <thead>\n",
       "    <tr style=\"text-align: right;\">\n",
       "      <th></th>\n",
       "      <th>film_id</th>\n",
       "      <th>rental_duration</th>\n",
       "      <th>customer_id</th>\n",
       "      <th>store_id</th>\n",
       "      <th>staff_id</th>\n",
       "      <th>length</th>\n",
       "    </tr>\n",
       "  </thead>\n",
       "  <tbody>\n",
       "    <tr>\n",
       "      <th>0</th>\n",
       "      <td>0.383383</td>\n",
       "      <td>0.50</td>\n",
       "      <td>0.951505</td>\n",
       "      <td>1.0</td>\n",
       "      <td>0.0</td>\n",
       "      <td>0.021583</td>\n",
       "    </tr>\n",
       "    <tr>\n",
       "      <th>1</th>\n",
       "      <td>0.176176</td>\n",
       "      <td>0.25</td>\n",
       "      <td>0.386288</td>\n",
       "      <td>1.0</td>\n",
       "      <td>1.0</td>\n",
       "      <td>0.906475</td>\n",
       "    </tr>\n",
       "    <tr>\n",
       "      <th>2</th>\n",
       "      <td>0.971972</td>\n",
       "      <td>0.25</td>\n",
       "      <td>0.234114</td>\n",
       "      <td>0.0</td>\n",
       "      <td>1.0</td>\n",
       "      <td>0.093525</td>\n",
       "    </tr>\n",
       "    <tr>\n",
       "      <th>3</th>\n",
       "      <td>0.984985</td>\n",
       "      <td>0.25</td>\n",
       "      <td>0.469900</td>\n",
       "      <td>0.0</td>\n",
       "      <td>0.0</td>\n",
       "      <td>0.467626</td>\n",
       "    </tr>\n",
       "    <tr>\n",
       "      <th>4</th>\n",
       "      <td>0.110110</td>\n",
       "      <td>0.00</td>\n",
       "      <td>0.366221</td>\n",
       "      <td>1.0</td>\n",
       "      <td>0.0</td>\n",
       "      <td>0.043165</td>\n",
       "    </tr>\n",
       "  </tbody>\n",
       "</table>\n",
       "</div>"
      ],
      "text/plain": [
       "    film_id  rental_duration  customer_id  store_id  staff_id    length\n",
       "0  0.383383             0.50     0.951505       1.0       0.0  0.021583\n",
       "1  0.176176             0.25     0.386288       1.0       1.0  0.906475\n",
       "2  0.971972             0.25     0.234114       0.0       1.0  0.093525\n",
       "3  0.984985             0.25     0.469900       0.0       0.0  0.467626\n",
       "4  0.110110             0.00     0.366221       1.0       0.0  0.043165"
      ]
     },
     "execution_count": 482,
     "metadata": {},
     "output_type": "execute_result"
    }
   ],
   "source": [
    "X_train_norm.columns = X_train_num.columns\n",
    "X_train_norm.head()"
   ]
  },
  {
   "cell_type": "code",
   "execution_count": 483,
   "id": "5e0dea41",
   "metadata": {},
   "outputs": [],
   "source": [
    "X_train_categorical = X_train.select_dtypes(include = object)"
   ]
  },
  {
   "cell_type": "code",
   "execution_count": 484,
   "id": "77ee43ae",
   "metadata": {},
   "outputs": [
    {
     "data": {
      "text/html": [
       "<div>\n",
       "<style scoped>\n",
       "    .dataframe tbody tr th:only-of-type {\n",
       "        vertical-align: middle;\n",
       "    }\n",
       "\n",
       "    .dataframe tbody tr th {\n",
       "        vertical-align: top;\n",
       "    }\n",
       "\n",
       "    .dataframe thead th {\n",
       "        text-align: right;\n",
       "    }\n",
       "</style>\n",
       "<table border=\"1\" class=\"dataframe\">\n",
       "  <thead>\n",
       "    <tr style=\"text-align: right;\">\n",
       "      <th></th>\n",
       "      <th>special_features</th>\n",
       "      <th>rating</th>\n",
       "    </tr>\n",
       "  </thead>\n",
       "  <tbody>\n",
       "    <tr>\n",
       "      <th>12013</th>\n",
       "      <td>Behind the Scenes</td>\n",
       "      <td>Adult</td>\n",
       "    </tr>\n",
       "    <tr>\n",
       "      <th>7649</th>\n",
       "      <td>Commentaries,Deleted Scenes</td>\n",
       "      <td>Adult</td>\n",
       "    </tr>\n",
       "    <tr>\n",
       "      <th>2892</th>\n",
       "      <td>Trailers,Deleted Scenes</td>\n",
       "      <td>Family</td>\n",
       "    </tr>\n",
       "    <tr>\n",
       "      <th>8219</th>\n",
       "      <td>Commentaries</td>\n",
       "      <td>Family</td>\n",
       "    </tr>\n",
       "    <tr>\n",
       "      <th>1830</th>\n",
       "      <td>Commentaries,Deleted Scenes</td>\n",
       "      <td>Adult</td>\n",
       "    </tr>\n",
       "  </tbody>\n",
       "</table>\n",
       "</div>"
      ],
      "text/plain": [
       "                  special_features  rating\n",
       "12013            Behind the Scenes   Adult\n",
       "7649   Commentaries,Deleted Scenes   Adult\n",
       "2892       Trailers,Deleted Scenes  Family\n",
       "8219                  Commentaries  Family\n",
       "1830   Commentaries,Deleted Scenes   Adult"
      ]
     },
     "execution_count": 484,
     "metadata": {},
     "output_type": "execute_result"
    }
   ],
   "source": [
    "X_train_categorical.head()"
   ]
  },
  {
   "cell_type": "code",
   "execution_count": 485,
   "id": "994e90f6",
   "metadata": {},
   "outputs": [
    {
     "data": {
      "text/html": [
       "<div>\n",
       "<style scoped>\n",
       "    .dataframe tbody tr th:only-of-type {\n",
       "        vertical-align: middle;\n",
       "    }\n",
       "\n",
       "    .dataframe tbody tr th {\n",
       "        vertical-align: top;\n",
       "    }\n",
       "\n",
       "    .dataframe thead th {\n",
       "        text-align: right;\n",
       "    }\n",
       "</style>\n",
       "<table border=\"1\" class=\"dataframe\">\n",
       "  <thead>\n",
       "    <tr style=\"text-align: right;\">\n",
       "      <th></th>\n",
       "      <th>special_features_Commentaries</th>\n",
       "      <th>special_features_Commentaries,Behind the Scenes</th>\n",
       "      <th>special_features_Commentaries,Deleted Scenes</th>\n",
       "      <th>special_features_Commentaries,Deleted Scenes,Behind the Scenes</th>\n",
       "      <th>special_features_Deleted Scenes</th>\n",
       "      <th>special_features_Deleted Scenes,Behind the Scenes</th>\n",
       "      <th>special_features_Trailers</th>\n",
       "      <th>special_features_Trailers,Behind the Scenes</th>\n",
       "      <th>special_features_Trailers,Commentaries</th>\n",
       "      <th>special_features_Trailers,Commentaries,Behind the Scenes</th>\n",
       "      <th>special_features_Trailers,Commentaries,Deleted Scenes</th>\n",
       "      <th>special_features_Trailers,Commentaries,Deleted Scenes,Behind the Scenes</th>\n",
       "      <th>special_features_Trailers,Deleted Scenes</th>\n",
       "      <th>special_features_Trailers,Deleted Scenes,Behind the Scenes</th>\n",
       "      <th>rating_Family</th>\n",
       "      <th>rating_General</th>\n",
       "    </tr>\n",
       "  </thead>\n",
       "  <tbody>\n",
       "    <tr>\n",
       "      <th>12013</th>\n",
       "      <td>0</td>\n",
       "      <td>0</td>\n",
       "      <td>0</td>\n",
       "      <td>0</td>\n",
       "      <td>0</td>\n",
       "      <td>0</td>\n",
       "      <td>0</td>\n",
       "      <td>0</td>\n",
       "      <td>0</td>\n",
       "      <td>0</td>\n",
       "      <td>0</td>\n",
       "      <td>0</td>\n",
       "      <td>0</td>\n",
       "      <td>0</td>\n",
       "      <td>0</td>\n",
       "      <td>0</td>\n",
       "    </tr>\n",
       "    <tr>\n",
       "      <th>7649</th>\n",
       "      <td>0</td>\n",
       "      <td>0</td>\n",
       "      <td>1</td>\n",
       "      <td>0</td>\n",
       "      <td>0</td>\n",
       "      <td>0</td>\n",
       "      <td>0</td>\n",
       "      <td>0</td>\n",
       "      <td>0</td>\n",
       "      <td>0</td>\n",
       "      <td>0</td>\n",
       "      <td>0</td>\n",
       "      <td>0</td>\n",
       "      <td>0</td>\n",
       "      <td>0</td>\n",
       "      <td>0</td>\n",
       "    </tr>\n",
       "    <tr>\n",
       "      <th>2892</th>\n",
       "      <td>0</td>\n",
       "      <td>0</td>\n",
       "      <td>0</td>\n",
       "      <td>0</td>\n",
       "      <td>0</td>\n",
       "      <td>0</td>\n",
       "      <td>0</td>\n",
       "      <td>0</td>\n",
       "      <td>0</td>\n",
       "      <td>0</td>\n",
       "      <td>0</td>\n",
       "      <td>0</td>\n",
       "      <td>1</td>\n",
       "      <td>0</td>\n",
       "      <td>1</td>\n",
       "      <td>0</td>\n",
       "    </tr>\n",
       "    <tr>\n",
       "      <th>8219</th>\n",
       "      <td>1</td>\n",
       "      <td>0</td>\n",
       "      <td>0</td>\n",
       "      <td>0</td>\n",
       "      <td>0</td>\n",
       "      <td>0</td>\n",
       "      <td>0</td>\n",
       "      <td>0</td>\n",
       "      <td>0</td>\n",
       "      <td>0</td>\n",
       "      <td>0</td>\n",
       "      <td>0</td>\n",
       "      <td>0</td>\n",
       "      <td>0</td>\n",
       "      <td>1</td>\n",
       "      <td>0</td>\n",
       "    </tr>\n",
       "    <tr>\n",
       "      <th>1830</th>\n",
       "      <td>0</td>\n",
       "      <td>0</td>\n",
       "      <td>1</td>\n",
       "      <td>0</td>\n",
       "      <td>0</td>\n",
       "      <td>0</td>\n",
       "      <td>0</td>\n",
       "      <td>0</td>\n",
       "      <td>0</td>\n",
       "      <td>0</td>\n",
       "      <td>0</td>\n",
       "      <td>0</td>\n",
       "      <td>0</td>\n",
       "      <td>0</td>\n",
       "      <td>0</td>\n",
       "      <td>0</td>\n",
       "    </tr>\n",
       "  </tbody>\n",
       "</table>\n",
       "</div>"
      ],
      "text/plain": [
       "       special_features_Commentaries  \\\n",
       "12013                              0   \n",
       "7649                               0   \n",
       "2892                               0   \n",
       "8219                               1   \n",
       "1830                               0   \n",
       "\n",
       "       special_features_Commentaries,Behind the Scenes  \\\n",
       "12013                                                0   \n",
       "7649                                                 0   \n",
       "2892                                                 0   \n",
       "8219                                                 0   \n",
       "1830                                                 0   \n",
       "\n",
       "       special_features_Commentaries,Deleted Scenes  \\\n",
       "12013                                             0   \n",
       "7649                                              1   \n",
       "2892                                              0   \n",
       "8219                                              0   \n",
       "1830                                              1   \n",
       "\n",
       "       special_features_Commentaries,Deleted Scenes,Behind the Scenes  \\\n",
       "12013                                                  0                \n",
       "7649                                                   0                \n",
       "2892                                                   0                \n",
       "8219                                                   0                \n",
       "1830                                                   0                \n",
       "\n",
       "       special_features_Deleted Scenes  \\\n",
       "12013                                0   \n",
       "7649                                 0   \n",
       "2892                                 0   \n",
       "8219                                 0   \n",
       "1830                                 0   \n",
       "\n",
       "       special_features_Deleted Scenes,Behind the Scenes  \\\n",
       "12013                                                  0   \n",
       "7649                                                   0   \n",
       "2892                                                   0   \n",
       "8219                                                   0   \n",
       "1830                                                   0   \n",
       "\n",
       "       special_features_Trailers  special_features_Trailers,Behind the Scenes  \\\n",
       "12013                          0                                            0   \n",
       "7649                           0                                            0   \n",
       "2892                           0                                            0   \n",
       "8219                           0                                            0   \n",
       "1830                           0                                            0   \n",
       "\n",
       "       special_features_Trailers,Commentaries  \\\n",
       "12013                                       0   \n",
       "7649                                        0   \n",
       "2892                                        0   \n",
       "8219                                        0   \n",
       "1830                                        0   \n",
       "\n",
       "       special_features_Trailers,Commentaries,Behind the Scenes  \\\n",
       "12013                                                  0          \n",
       "7649                                                   0          \n",
       "2892                                                   0          \n",
       "8219                                                   0          \n",
       "1830                                                   0          \n",
       "\n",
       "       special_features_Trailers,Commentaries,Deleted Scenes  \\\n",
       "12013                                                  0       \n",
       "7649                                                   0       \n",
       "2892                                                   0       \n",
       "8219                                                   0       \n",
       "1830                                                   0       \n",
       "\n",
       "       special_features_Trailers,Commentaries,Deleted Scenes,Behind the Scenes  \\\n",
       "12013                                                  0                         \n",
       "7649                                                   0                         \n",
       "2892                                                   0                         \n",
       "8219                                                   0                         \n",
       "1830                                                   0                         \n",
       "\n",
       "       special_features_Trailers,Deleted Scenes  \\\n",
       "12013                                         0   \n",
       "7649                                          0   \n",
       "2892                                          1   \n",
       "8219                                          0   \n",
       "1830                                          0   \n",
       "\n",
       "       special_features_Trailers,Deleted Scenes,Behind the Scenes  \\\n",
       "12013                                                  0            \n",
       "7649                                                   0            \n",
       "2892                                                   0            \n",
       "8219                                                   0            \n",
       "1830                                                   0            \n",
       "\n",
       "       rating_Family  rating_General  \n",
       "12013              0               0  \n",
       "7649               0               0  \n",
       "2892               1               0  \n",
       "8219               1               0  \n",
       "1830               0               0  "
      ]
     },
     "execution_count": 485,
     "metadata": {},
     "output_type": "execute_result"
    }
   ],
   "source": [
    "X_train_categorical = X_train.select_dtypes(include = object)\n",
    "X_train_cat = pd.get_dummies(X_train_categorical, \n",
    "                             columns=['special_features', 'rating'],\n",
    "                             drop_first=True)\n",
    "X_train_cat.head()"
   ]
  },
  {
   "cell_type": "code",
   "execution_count": 486,
   "id": "4af0a453",
   "metadata": {},
   "outputs": [],
   "source": [
    "X_train_transformed = np.concatenate([X_train_norm, X_train_cat], axis=1)"
   ]
  },
  {
   "cell_type": "code",
   "execution_count": 487,
   "id": "dd3c141a",
   "metadata": {},
   "outputs": [
    {
     "data": {
      "text/plain": [
       "array([[0.38338338, 0.5       , 0.95150502, ..., 0.        , 0.        ,\n",
       "        0.        ],\n",
       "       [0.17617618, 0.25      , 0.38628763, ..., 0.        , 0.        ,\n",
       "        0.        ],\n",
       "       [0.97197197, 0.25      , 0.23411371, ..., 0.        , 1.        ,\n",
       "        0.        ],\n",
       "       ...,\n",
       "       [0.26326326, 0.75      , 0.54682274, ..., 0.        , 0.        ,\n",
       "        1.        ],\n",
       "       [0.89289289, 0.25      , 0.38795987, ..., 0.        , 1.        ,\n",
       "        0.        ],\n",
       "       [0.88888889, 0.        , 0.96153846, ..., 0.        , 0.        ,\n",
       "        0.        ]])"
      ]
     },
     "execution_count": 487,
     "metadata": {},
     "output_type": "execute_result"
    }
   ],
   "source": [
    "X_train_transformed"
   ]
  },
  {
   "cell_type": "markdown",
   "id": "7e3c9cb2",
   "metadata": {},
   "source": [
    "#### Create a logistic regression model to predict this variable from the cleaned data."
   ]
  },
  {
   "cell_type": "code",
   "execution_count": 488,
   "id": "707261f4",
   "metadata": {},
   "outputs": [],
   "source": [
    "from sklearn.linear_model import LogisticRegression\n",
    "classification = LogisticRegression(random_state=0, solver='lbfgs',\n",
    "                  multi_class='multinomial').fit(X_train_transformed, y_train)"
   ]
  },
  {
   "cell_type": "code",
   "execution_count": 489,
   "id": "2b2c3d4d",
   "metadata": {},
   "outputs": [],
   "source": [
    "X_test_num = X_test.select_dtypes(include = np.number)\n",
    "\n",
    "X_test_normalized = transformer.transform(X_test_num)\n",
    "X_test_norm = pd.DataFrame(X_test_normalized)"
   ]
  },
  {
   "cell_type": "code",
   "execution_count": 490,
   "id": "2d132e38",
   "metadata": {},
   "outputs": [
    {
     "name": "stderr",
     "output_type": "stream",
     "text": [
      "C:\\Users\\franc\\AppData\\Local\\Temp/ipykernel_1228/1023709137.py:2: DeprecationWarning: `np.object` is a deprecated alias for the builtin `object`. To silence this warning, use `object` by itself. Doing this will not modify any behavior and is safe. \n",
      "Deprecated in NumPy 1.20; for more details and guidance: https://numpy.org/devdocs/release/1.20.0-notes.html#deprecations\n",
      "  X_test_categorical = X_test.select_dtypes(include = np.object)\n"
     ]
    },
    {
     "data": {
      "text/plain": [
       "[('special_features_Commentaries', 'special_features_Commentaries'),\n",
       " ('special_features_Commentaries,Behind the Scenes',\n",
       "  'special_features_Commentaries,Behind the Scenes'),\n",
       " ('special_features_Commentaries,Deleted Scenes',\n",
       "  'special_features_Commentaries,Deleted Scenes'),\n",
       " ('special_features_Commentaries,Deleted Scenes,Behind the Scenes',\n",
       "  'special_features_Commentaries,Deleted Scenes,Behind the Scenes'),\n",
       " ('special_features_Deleted Scenes', 'special_features_Deleted Scenes'),\n",
       " ('special_features_Deleted Scenes,Behind the Scenes',\n",
       "  'special_features_Deleted Scenes,Behind the Scenes'),\n",
       " ('special_features_Trailers', 'special_features_Trailers'),\n",
       " ('special_features_Trailers,Behind the Scenes',\n",
       "  'special_features_Trailers,Behind the Scenes'),\n",
       " ('special_features_Trailers,Commentaries',\n",
       "  'special_features_Trailers,Commentaries'),\n",
       " ('special_features_Trailers,Commentaries,Behind the Scenes',\n",
       "  'special_features_Trailers,Commentaries,Behind the Scenes'),\n",
       " ('special_features_Trailers,Commentaries,Deleted Scenes',\n",
       "  'special_features_Trailers,Commentaries,Deleted Scenes'),\n",
       " ('special_features_Trailers,Commentaries,Deleted Scenes,Behind the Scenes',\n",
       "  'special_features_Trailers,Commentaries,Deleted Scenes,Behind the Scenes'),\n",
       " ('special_features_Trailers,Deleted Scenes',\n",
       "  'special_features_Trailers,Deleted Scenes'),\n",
       " ('special_features_Trailers,Deleted Scenes,Behind the Scenes',\n",
       "  'special_features_Trailers,Deleted Scenes,Behind the Scenes'),\n",
       " ('rating_Family', 'rating_Family'),\n",
       " ('rating_General', 'rating_General')]"
      ]
     },
     "metadata": {},
     "output_type": "display_data"
    },
    {
     "data": {
      "text/html": [
       "<div>\n",
       "<style scoped>\n",
       "    .dataframe tbody tr th:only-of-type {\n",
       "        vertical-align: middle;\n",
       "    }\n",
       "\n",
       "    .dataframe tbody tr th {\n",
       "        vertical-align: top;\n",
       "    }\n",
       "\n",
       "    .dataframe thead th {\n",
       "        text-align: right;\n",
       "    }\n",
       "</style>\n",
       "<table border=\"1\" class=\"dataframe\">\n",
       "  <thead>\n",
       "    <tr style=\"text-align: right;\">\n",
       "      <th></th>\n",
       "      <th>special_features_Commentaries</th>\n",
       "      <th>special_features_Commentaries,Behind the Scenes</th>\n",
       "      <th>special_features_Commentaries,Deleted Scenes</th>\n",
       "      <th>special_features_Commentaries,Deleted Scenes,Behind the Scenes</th>\n",
       "      <th>special_features_Deleted Scenes</th>\n",
       "      <th>special_features_Deleted Scenes,Behind the Scenes</th>\n",
       "      <th>special_features_Trailers</th>\n",
       "      <th>special_features_Trailers,Behind the Scenes</th>\n",
       "      <th>special_features_Trailers,Commentaries</th>\n",
       "      <th>special_features_Trailers,Commentaries,Behind the Scenes</th>\n",
       "      <th>special_features_Trailers,Commentaries,Deleted Scenes</th>\n",
       "      <th>special_features_Trailers,Commentaries,Deleted Scenes,Behind the Scenes</th>\n",
       "      <th>special_features_Trailers,Deleted Scenes</th>\n",
       "      <th>special_features_Trailers,Deleted Scenes,Behind the Scenes</th>\n",
       "      <th>rating_Family</th>\n",
       "      <th>rating_General</th>\n",
       "    </tr>\n",
       "  </thead>\n",
       "  <tbody>\n",
       "    <tr>\n",
       "      <th>11948</th>\n",
       "      <td>0</td>\n",
       "      <td>0</td>\n",
       "      <td>0</td>\n",
       "      <td>0</td>\n",
       "      <td>0</td>\n",
       "      <td>0</td>\n",
       "      <td>0</td>\n",
       "      <td>0</td>\n",
       "      <td>0</td>\n",
       "      <td>0</td>\n",
       "      <td>0</td>\n",
       "      <td>0</td>\n",
       "      <td>1</td>\n",
       "      <td>0</td>\n",
       "      <td>1</td>\n",
       "      <td>0</td>\n",
       "    </tr>\n",
       "    <tr>\n",
       "      <th>12275</th>\n",
       "      <td>0</td>\n",
       "      <td>0</td>\n",
       "      <td>0</td>\n",
       "      <td>0</td>\n",
       "      <td>0</td>\n",
       "      <td>0</td>\n",
       "      <td>0</td>\n",
       "      <td>0</td>\n",
       "      <td>0</td>\n",
       "      <td>0</td>\n",
       "      <td>0</td>\n",
       "      <td>0</td>\n",
       "      <td>0</td>\n",
       "      <td>1</td>\n",
       "      <td>0</td>\n",
       "      <td>0</td>\n",
       "    </tr>\n",
       "    <tr>\n",
       "      <th>529</th>\n",
       "      <td>0</td>\n",
       "      <td>0</td>\n",
       "      <td>0</td>\n",
       "      <td>0</td>\n",
       "      <td>0</td>\n",
       "      <td>0</td>\n",
       "      <td>0</td>\n",
       "      <td>0</td>\n",
       "      <td>0</td>\n",
       "      <td>0</td>\n",
       "      <td>1</td>\n",
       "      <td>0</td>\n",
       "      <td>0</td>\n",
       "      <td>0</td>\n",
       "      <td>0</td>\n",
       "      <td>1</td>\n",
       "    </tr>\n",
       "    <tr>\n",
       "      <th>15825</th>\n",
       "      <td>0</td>\n",
       "      <td>0</td>\n",
       "      <td>0</td>\n",
       "      <td>0</td>\n",
       "      <td>0</td>\n",
       "      <td>0</td>\n",
       "      <td>0</td>\n",
       "      <td>0</td>\n",
       "      <td>0</td>\n",
       "      <td>1</td>\n",
       "      <td>0</td>\n",
       "      <td>0</td>\n",
       "      <td>0</td>\n",
       "      <td>0</td>\n",
       "      <td>1</td>\n",
       "      <td>0</td>\n",
       "    </tr>\n",
       "    <tr>\n",
       "      <th>9807</th>\n",
       "      <td>0</td>\n",
       "      <td>0</td>\n",
       "      <td>0</td>\n",
       "      <td>0</td>\n",
       "      <td>0</td>\n",
       "      <td>0</td>\n",
       "      <td>0</td>\n",
       "      <td>0</td>\n",
       "      <td>0</td>\n",
       "      <td>0</td>\n",
       "      <td>0</td>\n",
       "      <td>0</td>\n",
       "      <td>1</td>\n",
       "      <td>0</td>\n",
       "      <td>0</td>\n",
       "      <td>0</td>\n",
       "    </tr>\n",
       "  </tbody>\n",
       "</table>\n",
       "</div>"
      ],
      "text/plain": [
       "       special_features_Commentaries  \\\n",
       "11948                              0   \n",
       "12275                              0   \n",
       "529                                0   \n",
       "15825                              0   \n",
       "9807                               0   \n",
       "\n",
       "       special_features_Commentaries,Behind the Scenes  \\\n",
       "11948                                                0   \n",
       "12275                                                0   \n",
       "529                                                  0   \n",
       "15825                                                0   \n",
       "9807                                                 0   \n",
       "\n",
       "       special_features_Commentaries,Deleted Scenes  \\\n",
       "11948                                             0   \n",
       "12275                                             0   \n",
       "529                                               0   \n",
       "15825                                             0   \n",
       "9807                                              0   \n",
       "\n",
       "       special_features_Commentaries,Deleted Scenes,Behind the Scenes  \\\n",
       "11948                                                  0                \n",
       "12275                                                  0                \n",
       "529                                                    0                \n",
       "15825                                                  0                \n",
       "9807                                                   0                \n",
       "\n",
       "       special_features_Deleted Scenes  \\\n",
       "11948                                0   \n",
       "12275                                0   \n",
       "529                                  0   \n",
       "15825                                0   \n",
       "9807                                 0   \n",
       "\n",
       "       special_features_Deleted Scenes,Behind the Scenes  \\\n",
       "11948                                                  0   \n",
       "12275                                                  0   \n",
       "529                                                    0   \n",
       "15825                                                  0   \n",
       "9807                                                   0   \n",
       "\n",
       "       special_features_Trailers  special_features_Trailers,Behind the Scenes  \\\n",
       "11948                          0                                            0   \n",
       "12275                          0                                            0   \n",
       "529                            0                                            0   \n",
       "15825                          0                                            0   \n",
       "9807                           0                                            0   \n",
       "\n",
       "       special_features_Trailers,Commentaries  \\\n",
       "11948                                       0   \n",
       "12275                                       0   \n",
       "529                                         0   \n",
       "15825                                       0   \n",
       "9807                                        0   \n",
       "\n",
       "       special_features_Trailers,Commentaries,Behind the Scenes  \\\n",
       "11948                                                  0          \n",
       "12275                                                  0          \n",
       "529                                                    0          \n",
       "15825                                                  1          \n",
       "9807                                                   0          \n",
       "\n",
       "       special_features_Trailers,Commentaries,Deleted Scenes  \\\n",
       "11948                                                  0       \n",
       "12275                                                  0       \n",
       "529                                                    1       \n",
       "15825                                                  0       \n",
       "9807                                                   0       \n",
       "\n",
       "       special_features_Trailers,Commentaries,Deleted Scenes,Behind the Scenes  \\\n",
       "11948                                                  0                         \n",
       "12275                                                  0                         \n",
       "529                                                    0                         \n",
       "15825                                                  0                         \n",
       "9807                                                   0                         \n",
       "\n",
       "       special_features_Trailers,Deleted Scenes  \\\n",
       "11948                                         1   \n",
       "12275                                         0   \n",
       "529                                           0   \n",
       "15825                                         0   \n",
       "9807                                          1   \n",
       "\n",
       "       special_features_Trailers,Deleted Scenes,Behind the Scenes  \\\n",
       "11948                                                  0            \n",
       "12275                                                  1            \n",
       "529                                                    0            \n",
       "15825                                                  0            \n",
       "9807                                                   0            \n",
       "\n",
       "       rating_Family  rating_General  \n",
       "11948              1               0  \n",
       "12275              0               0  \n",
       "529                0               1  \n",
       "15825              1               0  \n",
       "9807               0               0  "
      ]
     },
     "execution_count": 490,
     "metadata": {},
     "output_type": "execute_result"
    }
   ],
   "source": [
    "# for categoricals\n",
    "X_test_categorical = X_test.select_dtypes(include = np.object)\n",
    "X_test_cat = pd.get_dummies(X_test_categorical, \n",
    "                            columns=['special_features','rating'],\n",
    "                            drop_first=True)\n",
    "display(list(zip(list(X_train_cat.columns),list(X_test_cat.columns)))) \n",
    "\n",
    "X_test_cat.head()"
   ]
  },
  {
   "cell_type": "code",
   "execution_count": 491,
   "id": "99000501",
   "metadata": {},
   "outputs": [],
   "source": [
    "X_test_transformed = np.concatenate([X_test_norm, X_test_cat], axis=1)"
   ]
  },
  {
   "cell_type": "code",
   "execution_count": null,
   "id": "7b2637f5",
   "metadata": {},
   "outputs": [],
   "source": []
  },
  {
   "cell_type": "code",
   "execution_count": 492,
   "id": "e2477012",
   "metadata": {},
   "outputs": [
    {
     "data": {
      "text/plain": [
       "0.9300273166631645"
      ]
     },
     "execution_count": 492,
     "metadata": {},
     "output_type": "execute_result"
    }
   ],
   "source": [
    "predictions = classification.predict(X_test_transformed)\n",
    "classification.score(X_test_transformed, y_test)"
   ]
  },
  {
   "cell_type": "code",
   "execution_count": 493,
   "id": "562d7f90",
   "metadata": {},
   "outputs": [
    {
     "data": {
      "text/plain": [
       "array(['False', 'False', 'False', ..., 'False', 'False', 'False'],\n",
       "      dtype=object)"
      ]
     },
     "execution_count": 493,
     "metadata": {},
     "output_type": "execute_result"
    }
   ],
   "source": [
    "predictions"
   ]
  },
  {
   "cell_type": "code",
   "execution_count": 494,
   "id": "7f078d6b",
   "metadata": {},
   "outputs": [
    {
     "name": "stdout",
     "output_type": "stream",
     "text": [
      "False    8852\n",
      "True      666\n",
      "Name: target, dtype: int64\n"
     ]
    }
   ],
   "source": [
    "print(y_test.value_counts())"
   ]
  },
  {
   "cell_type": "code",
   "execution_count": 495,
   "id": "28f4c07f",
   "metadata": {},
   "outputs": [
    {
     "data": {
      "text/plain": [
       "False    9518\n",
       "dtype: int64"
      ]
     },
     "execution_count": 495,
     "metadata": {},
     "output_type": "execute_result"
    }
   ],
   "source": [
    "pd.Series(predictions).value_counts()"
   ]
  },
  {
   "cell_type": "code",
   "execution_count": 496,
   "id": "4fee8dce",
   "metadata": {},
   "outputs": [
    {
     "data": {
      "text/plain": [
       "array([[8852,    0],\n",
       "       [ 666,    0]], dtype=int64)"
      ]
     },
     "execution_count": 496,
     "metadata": {},
     "output_type": "execute_result"
    }
   ],
   "source": [
    "from sklearn.metrics import confusion_matrix\n",
    "confusion_matrix(y_test, predictions)"
   ]
  },
  {
   "cell_type": "code",
   "execution_count": 497,
   "id": "0c7228e4",
   "metadata": {},
   "outputs": [
    {
     "data": {
      "text/plain": [
       "0.9274007144358059"
      ]
     },
     "execution_count": 497,
     "metadata": {},
     "output_type": "execute_result"
    }
   ],
   "source": [
    "from sklearn import neighbors\n",
    "clf = neighbors.KNeighborsClassifier(n_neighbors=5, weights='uniform') #for these 3 neighbs, they will have the same weigh in this case\n",
    "clf.fit(X_train_transformed, y_train)\n",
    "predictions_clf = clf.predict(X_test_transformed)\n",
    "clf.score(X_test_transformed, y_test)"
   ]
  },
  {
   "cell_type": "code",
   "execution_count": 498,
   "id": "b9cb2a2b",
   "metadata": {},
   "outputs": [
    {
     "data": {
      "text/plain": [
       "array([[8823,   29],\n",
       "       [ 662,    4]], dtype=int64)"
      ]
     },
     "execution_count": 498,
     "metadata": {},
     "output_type": "execute_result"
    }
   ],
   "source": [
    "confusion_matrix(y_test, predictions_clf)"
   ]
  },
  {
   "cell_type": "code",
   "execution_count": 499,
   "id": "6ac194bc",
   "metadata": {},
   "outputs": [
    {
     "data": {
      "text/plain": [
       "False    8852\n",
       "True      666\n",
       "Name: target, dtype: int64"
      ]
     },
     "execution_count": 499,
     "metadata": {},
     "output_type": "execute_result"
    }
   ],
   "source": [
    "pd.Series(y_test).value_counts()"
   ]
  },
  {
   "cell_type": "code",
   "execution_count": 500,
   "id": "e78aab68",
   "metadata": {},
   "outputs": [
    {
     "data": {
      "text/plain": [
       "False    9485\n",
       "True       33\n",
       "dtype: int64"
      ]
     },
     "execution_count": 500,
     "metadata": {},
     "output_type": "execute_result"
    }
   ],
   "source": [
    "pd.Series(predictions_clf).value_counts()"
   ]
  },
  {
   "cell_type": "markdown",
   "id": "032db6ca",
   "metadata": {},
   "source": [
    "#### Evaluate the results."
   ]
  },
  {
   "cell_type": "code",
   "execution_count": null,
   "id": "b6583cad",
   "metadata": {},
   "outputs": [],
   "source": []
  },
  {
   "cell_type": "markdown",
   "id": "be123a2f",
   "metadata": {},
   "source": [
    "#### What can you do to make your model more accurate?"
   ]
  },
  {
   "cell_type": "code",
   "execution_count": null,
   "id": "f78be5fd",
   "metadata": {},
   "outputs": [],
   "source": []
  }
 ],
 "metadata": {
  "kernelspec": {
   "display_name": "Python 3 (ipykernel)",
   "language": "python",
   "name": "python3"
  },
  "language_info": {
   "codemirror_mode": {
    "name": "ipython",
    "version": 3
   },
   "file_extension": ".py",
   "mimetype": "text/x-python",
   "name": "python",
   "nbconvert_exporter": "python",
   "pygments_lexer": "ipython3",
   "version": "3.9.7"
  }
 },
 "nbformat": 4,
 "nbformat_minor": 5
}
